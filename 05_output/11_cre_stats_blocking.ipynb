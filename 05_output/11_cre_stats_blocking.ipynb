{
 "cells": [
  {
   "cell_type": "code",
   "execution_count": 1,
   "id": "d477d85b-6716-40db-a384-9bf4badf5e02",
   "metadata": {},
   "outputs": [],
   "source": [
    "#!/usr/bin/env python3\n",
    "# -*- coding: utf-8 -*-\n",
    "\"\"\"\n",
    "DESCRIPTION \n",
    "\n",
    "Compute statistics for mean climatology vs. blocking climatology.\n",
    "\n",
    "\"\"\"\n",
    "\n",
    "# Import modules\n",
    "import numpy as np\n",
    "import netCDF4\n",
    "import pandas as pd\n",
    "\n",
    "# Define path\n",
    "path = '/Users/jryan4/Dropbox (University of Oregon)/research/clouds/data/'"
   ]
  },
  {
   "cell_type": "code",
   "execution_count": 2,
   "id": "0aa66175-624b-498d-b824-80fba7a388fe",
   "metadata": {},
   "outputs": [],
   "source": [
    "# Import data\n",
    "mod = netCDF4.Dataset(path + 'final_climatologies.nc')\n",
    "block_se_sw = netCDF4.Dataset(path + 'myd06_radiative_flux_blocking/MYD06_SW_Fluxes_SE.nc')\n",
    "block_se_lw = netCDF4.Dataset(path + 'myd06_radiative_flux_blocking/MYD06_LW_Fluxes_SE.nc')\n",
    "\n",
    "# SW\n",
    "sw_sw = netCDF4.Dataset(path + 'myd06_radiative_flux_blocking/MYD06_SW_Fluxes_SW.nc')\n",
    "sw_se = netCDF4.Dataset(path + 'myd06_radiative_flux_blocking/MYD06_SW_Fluxes_SE.nc')\n",
    "sw_nw = netCDF4.Dataset(path + 'myd06_radiative_flux_blocking/MYD06_SW_Fluxes_NW.nc')\n",
    "sw_ne = netCDF4.Dataset(path + 'myd06_radiative_flux_blocking/MYD06_SW_Fluxes_NE.nc')\n",
    "\n",
    "# LW\n",
    "lw_sw = netCDF4.Dataset(path + 'myd06_radiative_flux_blocking/MYD06_LW_Fluxes_SW.nc')\n",
    "lw_se = netCDF4.Dataset(path + 'myd06_radiative_flux_blocking/MYD06_LW_Fluxes_SE.nc')\n",
    "lw_nw = netCDF4.Dataset(path + 'myd06_radiative_flux_blocking/MYD06_LW_Fluxes_NW.nc')\n",
    "lw_ne = netCDF4.Dataset(path + 'myd06_radiative_flux_blocking/MYD06_LW_Fluxes_NE.nc')\n",
    "\n",
    "# Define maximum snowline\n",
    "snowline_file = netCDF4.Dataset(path + 'sci-adv-products/Monthly_Bare_Ice_2012.nc')\n",
    "snowline = snowline_file.variables['bare_ice'][1, :, :].filled(np.nan)\n",
    "max_snowline = (snowline > 0.1)"
   ]
  },
  {
   "cell_type": "code",
   "execution_count": 3,
   "id": "71464008-7b42-4bec-8895-a17e8bb2b35b",
   "metadata": {},
   "outputs": [
    {
     "name": "stderr",
     "output_type": "stream",
     "text": [
      "/var/folders/xj/5ps5mr8d5ysbd2mxxqjg3k800000gq/T/ipykernel_67908/1144810055.py:15: RuntimeWarning: Mean of empty slice\n",
      "  mod_cldy = np.nanmean((np.nanmean(mod.variables['cloudiness'][:], axis=2)[max_snowline]) * 100)\n",
      "/var/folders/xj/5ps5mr8d5ysbd2mxxqjg3k800000gq/T/ipykernel_67908/1144810055.py:18: RuntimeWarning: Mean of empty slice\n",
      "  mean_sw_current = np.nanmean((np.nanmean(mod.variables['allsky_sw'][:], axis=2)[max_snowline]) * (1 - albedo_current))\n",
      "/var/folders/xj/5ps5mr8d5ysbd2mxxqjg3k800000gq/T/ipykernel_67908/1144810055.py:19: RuntimeWarning: Mean of empty slice\n",
      "  mean_sw_future_1 = np.nanmean((np.nanmean(mod.variables['allsky_sw'][:], axis=2)[max_snowline]) * (1 - albedo_future_26))\n",
      "/var/folders/xj/5ps5mr8d5ysbd2mxxqjg3k800000gq/T/ipykernel_67908/1144810055.py:20: RuntimeWarning: Mean of empty slice\n",
      "  mean_sw_future_2 = np.nanmean((np.nanmean(mod.variables['allsky_sw'][:], axis=2)[max_snowline]) * (1 - albedo_future_45))\n",
      "/var/folders/xj/5ps5mr8d5ysbd2mxxqjg3k800000gq/T/ipykernel_67908/1144810055.py:21: RuntimeWarning: Mean of empty slice\n",
      "  mean_sw_future_5 = np.nanmean((np.nanmean(mod.variables['allsky_sw'][:], axis=2)[max_snowline]) * (1 - albedo_future_85))\n",
      "/var/folders/xj/5ps5mr8d5ysbd2mxxqjg3k800000gq/T/ipykernel_67908/1144810055.py:22: RuntimeWarning: Mean of empty slice\n",
      "  mean_lw_current = np.nanmean(np.nanmean(mod.variables['allsky_lw'][:], axis=2)[max_snowline])\n",
      "/var/folders/xj/5ps5mr8d5ysbd2mxxqjg3k800000gq/T/ipykernel_67908/1144810055.py:31: RuntimeWarning: Mean of empty slice\n",
      "  blk_lw_current_all = np.nanmean(np.nanmean((blk_lw_sw_current, blk_lw_nw_current,\n",
      "/opt/anaconda3/envs/clouds/lib/python3.8/site-packages/numpy/ma/core.py:1015: RuntimeWarning: overflow encountered in multiply\n",
      "  result = self.f(da, db, *args, **kwargs)\n"
     ]
    }
   ],
   "source": [
    "albedo_current = 0.65\n",
    "albedo_future_26 = 0.625\n",
    "albedo_future_45 = 0.584\n",
    "albedo_future_85 = 0.513\n",
    "\n",
    "def produce_table(block_file_sw):\n",
    "    block_cldy = np.nanmean((block_file_sw.variables['cloudiness'][:][max_snowline]) * 100)\n",
    "    blk_sw_current = np.nanmean((block_file_sw.variables['allsky_sw'][:][max_snowline]) * (1 - albedo_current))\n",
    "    blk_sw_future_1 = np.nanmean((block_file_sw.variables['allsky_sw'][:][max_snowline]) * (1 - albedo_future_26))\n",
    "    blk_sw_future_2 = np.nanmean((block_file_sw.variables['allsky_sw'][:][max_snowline]) * (1 - albedo_future_45))\n",
    "    blk_sw_future_5 = np.nanmean((block_file_sw.variables['allsky_sw'][:][max_snowline]) * (1 - albedo_future_85))\n",
    "    return block_cldy, blk_sw_current, blk_sw_future_1, blk_sw_future_2, blk_sw_future_5    \n",
    "    \n",
    "# Get mean cloudiness\n",
    "mod_cldy = np.nanmean((np.nanmean(mod.variables['cloudiness'][:], axis=2)[max_snowline]) * 100)\n",
    "\n",
    "# Get mean radiative flux values\n",
    "mean_sw_current = np.nanmean((np.nanmean(mod.variables['allsky_sw'][:], axis=2)[max_snowline]) * (1 - albedo_current))\n",
    "mean_sw_future_1 = np.nanmean((np.nanmean(mod.variables['allsky_sw'][:], axis=2)[max_snowline]) * (1 - albedo_future_26))\n",
    "mean_sw_future_2 = np.nanmean((np.nanmean(mod.variables['allsky_sw'][:], axis=2)[max_snowline]) * (1 - albedo_future_45))\n",
    "mean_sw_future_5 = np.nanmean((np.nanmean(mod.variables['allsky_sw'][:], axis=2)[max_snowline]) * (1 - albedo_future_85))\n",
    "mean_lw_current = np.nanmean(np.nanmean(mod.variables['allsky_lw'][:], axis=2)[max_snowline])\n",
    "\n",
    "# Get block longwave radiative fluxes\n",
    "blk_lw_sw_current = lw_sw.variables['allsky_lw'][:][max_snowline]\n",
    "blk_lw_nw_current = lw_nw.variables['allsky_lw'][:][max_snowline]\n",
    "blk_lw_se_current = lw_se.variables['allsky_lw'][:][max_snowline]\n",
    "blk_lw_ne_current = lw_ne.variables['allsky_lw'][:][max_snowline]\n",
    "\n",
    "# Join LW blocking events\n",
    "blk_lw_current_all = np.nanmean(np.nanmean((blk_lw_sw_current, blk_lw_nw_current, \n",
    "                                            blk_lw_se_current, blk_lw_ne_current), axis=0))\n",
    "\n",
    "# Get SW blocking events\n",
    "block_sw = produce_table(sw_sw)\n",
    "block_nw = produce_table(sw_nw)\n",
    "block_ne = produce_table(sw_ne)\n",
    "block_se = produce_table(sw_se)\n",
    "\n",
    "# Get radiative difference\n",
    "blk_southwest_current = (block_sw[1] + blk_lw_current_all) - (mean_sw_current + mean_lw_current)\n",
    "blk_northwest_current = (block_nw[1] + blk_lw_current_all) - (mean_sw_current + mean_lw_current)\n",
    "blk_northeast_current = (block_ne[1] + blk_lw_current_all) - (mean_sw_current + mean_lw_current)\n",
    "blk_southeast_current = (block_se[1] + blk_lw_current_all) - (mean_sw_current + mean_lw_current)\n",
    "\n",
    "blk_southwest_future_1 = (block_sw[2] + blk_lw_current_all) - (mean_sw_future_1 + mean_lw_current)\n",
    "blk_northwest_future_1 = (block_nw[2] + blk_lw_current_all) - (mean_sw_future_1 + mean_lw_current)\n",
    "blk_northeast_future_1 = (block_ne[2] + blk_lw_current_all) - (mean_sw_future_1 + mean_lw_current)\n",
    "blk_southeast_future_1 = (block_se[2] + blk_lw_current_all) - (mean_sw_future_1 + mean_lw_current)\n",
    "\n",
    "blk_southwest_future_2 = (block_sw[3] + blk_lw_current_all) - (mean_sw_future_2 + mean_lw_current)\n",
    "blk_northwest_future_2 = (block_nw[3] + blk_lw_current_all) - (mean_sw_future_2 + mean_lw_current)\n",
    "blk_northeast_future_2 = (block_ne[3] + blk_lw_current_all) - (mean_sw_future_2 + mean_lw_current)\n",
    "blk_southeast_future_2 = (block_se[3] + blk_lw_current_all) - (mean_sw_future_2 + mean_lw_current)\n",
    "\n",
    "blk_southwest_future_5 = (block_sw[4] + blk_lw_current_all) - (mean_sw_future_5 + mean_lw_current)\n",
    "blk_northwest_future_5 = (block_nw[4] + blk_lw_current_all) - (mean_sw_future_5 + mean_lw_current)\n",
    "blk_northeast_future_5 = (block_ne[4] + blk_lw_current_all) - (mean_sw_future_5 + mean_lw_current)\n",
    "blk_southeast_future_5 = (block_se[4] + blk_lw_current_all) - (mean_sw_future_5 + mean_lw_current)\n",
    "\n",
    "cloudiness = list((block_sw[0]-mod_cldy, block_nw[0]-mod_cldy, block_ne[0]-mod_cldy, block_se[0]-mod_cldy))\n",
    "blk_current = list((blk_southwest_current, blk_northwest_current,\n",
    "                    blk_northeast_current, blk_southeast_current))\n",
    "blk_future_1 = list((blk_southwest_future_1, blk_northwest_future_1,\n",
    "                    blk_northeast_future_1, blk_southeast_future_1))\n",
    "blk_future_2 = list((blk_southwest_future_2, blk_northwest_future_2,\n",
    "                    blk_northeast_future_2, blk_southeast_future_2))\n",
    "blk_future_5 = list((blk_southwest_future_5, blk_northwest_future_5,\n",
    "                    blk_northeast_future_5, blk_southeast_future_5))\n",
    "\n",
    "blk_df = pd.DataFrame((cloudiness, blk_current, blk_future_1, blk_future_2, blk_future_5))\n",
    "blk_df.columns = ['Southwest', 'Northwest', 'Northeast', 'Southeast']"
   ]
  },
  {
   "cell_type": "code",
   "execution_count": 4,
   "id": "2522358d-35c5-4b98-a81d-bfd9cb6f7187",
   "metadata": {},
   "outputs": [
    {
     "data": {
      "text/html": [
       "<div>\n",
       "<style scoped>\n",
       "    .dataframe tbody tr th:only-of-type {\n",
       "        vertical-align: middle;\n",
       "    }\n",
       "\n",
       "    .dataframe tbody tr th {\n",
       "        vertical-align: top;\n",
       "    }\n",
       "\n",
       "    .dataframe thead th {\n",
       "        text-align: right;\n",
       "    }\n",
       "</style>\n",
       "<table border=\"1\" class=\"dataframe\">\n",
       "  <thead>\n",
       "    <tr style=\"text-align: right;\">\n",
       "      <th></th>\n",
       "      <th>Southwest</th>\n",
       "      <th>Northwest</th>\n",
       "      <th>Northeast</th>\n",
       "      <th>Southeast</th>\n",
       "    </tr>\n",
       "  </thead>\n",
       "  <tbody>\n",
       "    <tr>\n",
       "      <th>0</th>\n",
       "      <td>-2.764959</td>\n",
       "      <td>-5.736597</td>\n",
       "      <td>-6.353491</td>\n",
       "      <td>-0.200336</td>\n",
       "    </tr>\n",
       "    <tr>\n",
       "      <th>1</th>\n",
       "      <td>3.993805</td>\n",
       "      <td>11.494385</td>\n",
       "      <td>4.944977</td>\n",
       "      <td>-1.620026</td>\n",
       "    </tr>\n",
       "    <tr>\n",
       "      <th>2</th>\n",
       "      <td>4.231934</td>\n",
       "      <td>12.268311</td>\n",
       "      <td>5.251099</td>\n",
       "      <td>-1.782837</td>\n",
       "    </tr>\n",
       "    <tr>\n",
       "      <th>3</th>\n",
       "      <td>4.622559</td>\n",
       "      <td>13.537476</td>\n",
       "      <td>5.753113</td>\n",
       "      <td>-2.049866</td>\n",
       "    </tr>\n",
       "    <tr>\n",
       "      <th>4</th>\n",
       "      <td>5.298889</td>\n",
       "      <td>15.735352</td>\n",
       "      <td>6.622345</td>\n",
       "      <td>-2.512329</td>\n",
       "    </tr>\n",
       "  </tbody>\n",
       "</table>\n",
       "</div>"
      ],
      "text/plain": [
       "   Southwest  Northwest  Northeast  Southeast\n",
       "0  -2.764959  -5.736597  -6.353491  -0.200336\n",
       "1   3.993805  11.494385   4.944977  -1.620026\n",
       "2   4.231934  12.268311   5.251099  -1.782837\n",
       "3   4.622559  13.537476   5.753113  -2.049866\n",
       "4   5.298889  15.735352   6.622345  -2.512329"
      ]
     },
     "execution_count": 4,
     "metadata": {},
     "output_type": "execute_result"
    }
   ],
   "source": [
    "blk_df"
   ]
  },
  {
   "cell_type": "code",
   "execution_count": 6,
   "id": "52353d09-dbce-43e7-bd8e-6813c08675bc",
   "metadata": {},
   "outputs": [
    {
     "data": {
      "text/plain": [
       "6.2749999999999995"
      ]
     },
     "execution_count": 6,
     "metadata": {},
     "output_type": "execute_result"
    }
   ],
   "source": [
    "(6.6+15.7+5.3-2.5) / 4"
   ]
  },
  {
   "cell_type": "code",
   "execution_count": 7,
   "id": "f651a799-8551-4bdf-b6e9-129fad32c681",
   "metadata": {},
   "outputs": [
    {
     "data": {
      "text/plain": [
       "4.725"
      ]
     },
     "execution_count": 7,
     "metadata": {},
     "output_type": "execute_result"
    }
   ],
   "source": [
    "(4.0+11.5+5.0-1.6)/4"
   ]
  },
  {
   "cell_type": "code",
   "execution_count": 8,
   "id": "633dd040-0f7c-434c-a864-4009dac4ba55",
   "metadata": {},
   "outputs": [
    {
     "data": {
      "text/plain": [
       "0.3433333333333333"
      ]
     },
     "execution_count": 8,
     "metadata": {},
     "output_type": "execute_result"
    }
   ],
   "source": [
    "(6.27 - 4.725) / 4.5"
   ]
  },
  {
   "cell_type": "code",
   "execution_count": null,
   "id": "1a6d7e76-e582-44ec-bb98-36c6bc0859b5",
   "metadata": {},
   "outputs": [],
   "source": [
    "+15.7 ± 4.3, +6.6 ± 1.8, and +5.3 ± 1.4 W m-2 "
   ]
  },
  {
   "cell_type": "code",
   "execution_count": 9,
   "id": "0a4b5e12-ebd3-4d69-b365-d90f896957f2",
   "metadata": {},
   "outputs": [
    {
     "data": {
      "text/plain": [
       "4.239"
      ]
     },
     "execution_count": 9,
     "metadata": {},
     "output_type": "execute_result"
    }
   ],
   "source": [
    "15.7*.27"
   ]
  },
  {
   "cell_type": "code",
   "execution_count": 10,
   "id": "3991b35a-ac1f-4a52-ab57-7e8e7b88fc81",
   "metadata": {},
   "outputs": [
    {
     "data": {
      "text/plain": [
       "1.782"
      ]
     },
     "execution_count": 10,
     "metadata": {},
     "output_type": "execute_result"
    }
   ],
   "source": [
    "6.6*.27"
   ]
  },
  {
   "cell_type": "code",
   "execution_count": null,
   "id": "6320bc1a-610f-47e9-9701-4bbcba34ce15",
   "metadata": {},
   "outputs": [],
   "source": []
  }
 ],
 "metadata": {
  "kernelspec": {
   "display_name": "Python 3 (ipykernel)",
   "language": "python",
   "name": "python3"
  },
  "language_info": {
   "codemirror_mode": {
    "name": "ipython",
    "version": 3
   },
   "file_extension": ".py",
   "mimetype": "text/x-python",
   "name": "python",
   "nbconvert_exporter": "python",
   "pygments_lexer": "ipython3",
   "version": "3.8.12"
  }
 },
 "nbformat": 4,
 "nbformat_minor": 5
}
