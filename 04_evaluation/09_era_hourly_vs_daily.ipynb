{
 "cells": [
  {
   "cell_type": "code",
   "execution_count": 2,
   "id": "d9be72c1-cbe2-46a0-9085-b3c2ed69ce67",
   "metadata": {},
   "outputs": [],
   "source": [
    "# Import modules\n",
    "import numpy as np\n",
    "import pandas as pd\n",
    "import geopandas as gpd\n",
    "import glob\n",
    "import os\n",
    "import netCDF4\n",
    "from datetime import timedelta, datetime\n",
    "from shapely.geometry import Point"
   ]
  },
  {
   "cell_type": "code",
   "execution_count": 19,
   "id": "51d6136e-f89e-4297-a4ea-5b2923174b9e",
   "metadata": {},
   "outputs": [],
   "source": [
    "# Define path\n",
    "path = '/Users/jryan4/Dropbox (University of Oregon)/research/clouds/data/era/'\n",
    "\n",
    "# Define ERA5 data\n",
    "era5 = netCDF4.Dataset(path + 'era_t2m_2003_2020.nc')\n",
    "era5_lon = era5.variables['longitude'][:]\n",
    "era5_lat = era5.variables['latitude'][:]\n",
    "era5_xx, era5_yy = np.meshgrid(era5_lon, era5_lat)"
   ]
  },
  {
   "cell_type": "code",
   "execution_count": 20,
   "id": "139fa7f1-fb83-4431-a7af-4436c37ebfdb",
   "metadata": {},
   "outputs": [],
   "source": [
    "# Get time\n",
    "base = datetime(1900,1,1)\n",
    "era5_time = pd.DataFrame(era5.variables['time'][:], columns=['hours'])\n",
    "era5_time['datetime'] = era5_time['hours'].apply(lambda x: base + timedelta(hours=x))"
   ]
  },
  {
   "cell_type": "code",
   "execution_count": 21,
   "id": "3aae2d3d-1c5f-4eeb-b2b6-0ea6cd4b6bf8",
   "metadata": {},
   "outputs": [
    {
     "data": {
      "text/html": [
       "<div>\n",
       "<style scoped>\n",
       "    .dataframe tbody tr th:only-of-type {\n",
       "        vertical-align: middle;\n",
       "    }\n",
       "\n",
       "    .dataframe tbody tr th {\n",
       "        vertical-align: top;\n",
       "    }\n",
       "\n",
       "    .dataframe thead th {\n",
       "        text-align: right;\n",
       "    }\n",
       "</style>\n",
       "<table border=\"1\" class=\"dataframe\">\n",
       "  <thead>\n",
       "    <tr style=\"text-align: right;\">\n",
       "      <th></th>\n",
       "      <th>hours</th>\n",
       "      <th>datetime</th>\n",
       "    </tr>\n",
       "  </thead>\n",
       "  <tbody>\n",
       "    <tr>\n",
       "      <th>0</th>\n",
       "      <td>906504</td>\n",
       "      <td>2003-06-01 00:00:00</td>\n",
       "    </tr>\n",
       "    <tr>\n",
       "      <th>1</th>\n",
       "      <td>906505</td>\n",
       "      <td>2003-06-01 01:00:00</td>\n",
       "    </tr>\n",
       "    <tr>\n",
       "      <th>2</th>\n",
       "      <td>906506</td>\n",
       "      <td>2003-06-01 02:00:00</td>\n",
       "    </tr>\n",
       "    <tr>\n",
       "      <th>3</th>\n",
       "      <td>906507</td>\n",
       "      <td>2003-06-01 03:00:00</td>\n",
       "    </tr>\n",
       "    <tr>\n",
       "      <th>4</th>\n",
       "      <td>906508</td>\n",
       "      <td>2003-06-01 04:00:00</td>\n",
       "    </tr>\n",
       "    <tr>\n",
       "      <th>...</th>\n",
       "      <td>...</td>\n",
       "      <td>...</td>\n",
       "    </tr>\n",
       "    <tr>\n",
       "      <th>39739</th>\n",
       "      <td>1057747</td>\n",
       "      <td>2020-08-31 19:00:00</td>\n",
       "    </tr>\n",
       "    <tr>\n",
       "      <th>39740</th>\n",
       "      <td>1057748</td>\n",
       "      <td>2020-08-31 20:00:00</td>\n",
       "    </tr>\n",
       "    <tr>\n",
       "      <th>39741</th>\n",
       "      <td>1057749</td>\n",
       "      <td>2020-08-31 21:00:00</td>\n",
       "    </tr>\n",
       "    <tr>\n",
       "      <th>39742</th>\n",
       "      <td>1057750</td>\n",
       "      <td>2020-08-31 22:00:00</td>\n",
       "    </tr>\n",
       "    <tr>\n",
       "      <th>39743</th>\n",
       "      <td>1057751</td>\n",
       "      <td>2020-08-31 23:00:00</td>\n",
       "    </tr>\n",
       "  </tbody>\n",
       "</table>\n",
       "<p>39744 rows × 2 columns</p>\n",
       "</div>"
      ],
      "text/plain": [
       "         hours            datetime\n",
       "0       906504 2003-06-01 00:00:00\n",
       "1       906505 2003-06-01 01:00:00\n",
       "2       906506 2003-06-01 02:00:00\n",
       "3       906507 2003-06-01 03:00:00\n",
       "4       906508 2003-06-01 04:00:00\n",
       "...        ...                 ...\n",
       "39739  1057747 2020-08-31 19:00:00\n",
       "39740  1057748 2020-08-31 20:00:00\n",
       "39741  1057749 2020-08-31 21:00:00\n",
       "39742  1057750 2020-08-31 22:00:00\n",
       "39743  1057751 2020-08-31 23:00:00\n",
       "\n",
       "[39744 rows x 2 columns]"
      ]
     },
     "execution_count": 21,
     "metadata": {},
     "output_type": "execute_result"
    }
   ],
   "source": [
    "era5_time"
   ]
  },
  {
   "cell_type": "code",
   "execution_count": 22,
   "id": "a7a54747-dce8-45a6-9912-a19c3b78d57d",
   "metadata": {},
   "outputs": [
    {
     "data": {
      "text/plain": [
       "<class 'netCDF4._netCDF4.Dataset'>\n",
       "root group (NETCDF3_64BIT_OFFSET data model, file format NETCDF3):\n",
       "    Conventions: CF-1.6\n",
       "    history: 2021-02-10 20:03:27 GMT by grib_to_netcdf-2.16.0: /opt/ecmwf/eccodes/bin/grib_to_netcdf -S param -o /cache/data6/adaptor.mars.internal-1612984319.8993301-20129-5-cd73ed35-4d8a-4945-9f3a-03c5593e298e.nc /cache/tmp/cd73ed35-4d8a-4945-9f3a-03c5593e298e-adaptor.mars.internal-1612984319.9163132-20129-2-tmp.grib\n",
       "    dimensions(sizes): longitude(249), latitude(105), time(39744)\n",
       "    variables(dimensions): float32 longitude(longitude), float32 latitude(latitude), int32 time(time), int16 t2m(time, latitude, longitude)\n",
       "    groups: "
      ]
     },
     "execution_count": 22,
     "metadata": {},
     "output_type": "execute_result"
    }
   ],
   "source": [
    "era5"
   ]
  },
  {
   "cell_type": "code",
   "execution_count": null,
   "id": "55595bc9-6aa9-4923-a883-dd43e3f5fd02",
   "metadata": {},
   "outputs": [],
   "source": [
    "era_lw.append(new_df['strd'].values / 3600)"
   ]
  }
 ],
 "metadata": {
  "kernelspec": {
   "display_name": "Python 3 (ipykernel)",
   "language": "python",
   "name": "python3"
  },
  "language_info": {
   "codemirror_mode": {
    "name": "ipython",
    "version": 3
   },
   "file_extension": ".py",
   "mimetype": "text/x-python",
   "name": "python",
   "nbconvert_exporter": "python",
   "pygments_lexer": "ipython3",
   "version": "3.8.12"
  }
 },
 "nbformat": 4,
 "nbformat_minor": 5
}
