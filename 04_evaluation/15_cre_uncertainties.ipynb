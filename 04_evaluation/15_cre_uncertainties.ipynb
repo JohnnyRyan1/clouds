{
 "cells": [
  {
   "cell_type": "code",
   "execution_count": 6,
   "id": "186cdb55-d669-455b-8fd7-57085625ff28",
   "metadata": {},
   "outputs": [],
   "source": [
    "#!/usr/bin/env python3\n",
    "# -*- coding: utf-8 -*-\n",
    "\"\"\"\n",
    "\n",
    "DESCRIPTION\n",
    "\n",
    "Compute uncertainties\n",
    "\n",
    "\"\"\"\n",
    "\n",
    "# Import modules\n",
    "import pandas as pd\n",
    "import numpy as np\n",
    "import netCDF4\n",
    "\n",
    "# Define path\n",
    "path = '/Users/jryan4/Dropbox (University of Oregon)/research/clouds/data/'\n",
    "\n",
    "# Define years\n",
    "years = np.arange(2003, 2021, 1)\n",
    "\n",
    "# Define f uncertainties\n",
    "f_lw_mean = 1.37\n",
    "f_lw_uncert = 0.036\n",
    "lw_clrsky_uncert = 13.7 # W m-2\n",
    "\n",
    "f_sw_mean = 0.64\n",
    "f_sw_uncert = 0.075\n",
    "sw_clrsky_uncert = 20.8 # W m-2\n",
    "albedo_uncert = 0.03"
   ]
  },
  {
   "cell_type": "code",
   "execution_count": 7,
   "id": "e008386d-8fc1-466b-b6ad-3e99d045bec1",
   "metadata": {},
   "outputs": [],
   "source": [
    "# Define ice sheet grid\n",
    "ismip = netCDF4.Dataset(path + 'masks/1km-ISMIP6.nc')\n",
    "ismip_lon = ismip.variables['lon'][:]\n",
    "ismip_lat = ismip.variables['lat'][:]\n",
    "ismip_mask = ismip.variables['ICE'][:]\n",
    "\n",
    "sw_clrsky_mean = []\n",
    "lw_clrsky_mean = []\n",
    "\n",
    "cre_lw_uncert = []\n",
    "cre_sw_uncert = []\n",
    "cldy_uncert = []\n",
    "\n",
    "cre_lw_mean = []\n",
    "cre_sw_mean = []\n",
    "cre_mean = []\n",
    "cldy_mean = []"
   ]
  },
  {
   "cell_type": "code",
   "execution_count": 8,
   "id": "80e2ac7d-81a3-4ba7-8b50-23f493d17b1e",
   "metadata": {},
   "outputs": [
    {
     "name": "stdout",
     "output_type": "stream",
     "text": [
      "2003\n",
      "2004\n",
      "2005\n",
      "2006\n",
      "2007\n",
      "2008\n",
      "2009\n",
      "2010\n",
      "2011\n",
      "2012\n",
      "2013\n",
      "2014\n",
      "2015\n",
      "2016\n",
      "2017\n",
      "2018\n",
      "2019\n",
      "2020\n"
     ]
    }
   ],
   "source": [
    "for i in years:\n",
    "    print(i)\n",
    "    \n",
    "    # Define LW\n",
    "    lw = netCDF4.Dataset(path + 'myd06_radiative_flux/MYD06_LW_Fluxes_' + str(i) + '.nc')\n",
    "    \n",
    "    # Define SW\n",
    "    sw = netCDF4.Dataset(path + 'myd06_radiative_flux/MYD06_SW_Fluxes_' + str(i) + '.nc')\n",
    "    \n",
    "    # Derive LW uncertainties\n",
    "    lw_allsky = lw.variables['allsky_lw'][:]\n",
    "    lw_allsky[~ismip_mask.astype(bool)] = np.nan\n",
    "    \n",
    "    lw_clrsky = lw.variables['clrsky_lw'][:]\n",
    "    lw_clrsky[~ismip_mask.astype(bool)] = np.nan\n",
    "    \n",
    "    lw_clrsky_mean.append(np.nanmean(lw_clrsky))\n",
    "    cre_lw_mean.append(np.nanmean(lw_allsky - lw_clrsky))\n",
    "    \n",
    "    lw_clrsky_uncert = lw_clrsky_uncert / np.nanmean(lw_clrsky)\n",
    "    lw_allsky_uncert = lw_clrsky_uncert + (f_lw_uncert / f_lw_mean)\n",
    "    cre_lw_uncert.append(lw_clrsky_uncert + lw_allsky_uncert)\n",
    "    \n",
    "    # Derive SW uncertainties\n",
    "    sw_allsky = sw.variables['allsky_sw'][:]\n",
    "    sw_allsky[~ismip_mask.astype(bool)] = np.nan\n",
    "    \n",
    "    sw_clrsky = sw.variables['clrsky_sw'][:]\n",
    "    sw_clrsky[~ismip_mask.astype(bool)] = np.nan\n",
    "    \n",
    "    albedo = sw.variables['albedo'][:]\n",
    "    albedo[~ismip_mask.astype(bool)] = np.nan\n",
    "    albedo = albedo / 100\n",
    "    \n",
    "    sw_allsky_uncert = (f_sw_uncert / f_sw_mean)\n",
    "    cre_sw_uncert.append(sw_allsky_uncert + (albedo_uncert / (1 - np.nanmean(albedo))))\n",
    "    cre_sw_mean.append(np.nanmean((sw_allsky - sw_clrsky)*(1-albedo)))\n",
    "    \n",
    "    # Derive cloudiness uncertainties\n",
    "    cldy_uncert.append(sw_allsky_uncert + sw_allsky_uncert)"
   ]
  },
  {
   "cell_type": "code",
   "execution_count": 5,
   "id": "d03bcea9-d23e-4bf1-b4f9-498d6cc51512",
   "metadata": {},
   "outputs": [
    {
     "name": "stdout",
     "output_type": "stream",
     "text": [
      "CRE SW uncertainty = 24.2 %\n",
      "CRE LW uncertainty = 3.0 %\n",
      "CRE uncertainty = 24.5 %\n",
      "Cloudiness uncertainty = 23.4 %\n"
     ]
    }
   ],
   "source": [
    "df = pd.DataFrame([cre_lw_uncert, cre_sw_uncert, cldy_uncert]).T\n",
    "df.columns = ['cre_lw_uncertainty', 'cre_sw_uncertainty', 'cldy_uncertainty']\n",
    "df.insert(0, 'year', years)\n",
    "df.insert(1, 'cre_uncertainty', np.sqrt(df['cre_lw_uncertainty']**2 + df['cre_sw_uncertainty']**2))\n",
    "\n",
    "# Print results\n",
    "print('CRE SW uncertainty = %0.1f %%' %(df['cre_sw_uncertainty'].mean() * 100))\n",
    "print('CRE LW uncertainty = %0.1f %%' %(df['cre_lw_uncertainty'].mean() * 100))\n",
    "print('CRE uncertainty = %0.1f %%' %(df['cre_uncertainty'].mean() * 100))\n",
    "print('Cloudiness uncertainty = %0.1f %%' %(df['cldy_uncertainty'].mean() * 100))"
   ]
  },
  {
   "cell_type": "code",
   "execution_count": 42,
   "id": "77100030-329b-4251-86dd-8d3374dfb266",
   "metadata": {},
   "outputs": [
    {
     "data": {
      "text/plain": [
       "17.299999999999997"
      ]
     },
     "execution_count": 42,
     "metadata": {},
     "output_type": "execute_result"
    }
   ],
   "source": [
    "# SW allsky uncertainty\n",
    "11.7 + 5.6"
   ]
  },
  {
   "cell_type": "code",
   "execution_count": 43,
   "id": "4909dd55-8d76-4e38-9349-c1e88b8c122e",
   "metadata": {},
   "outputs": [
    {
     "data": {
      "text/plain": [
       "9.3"
      ]
     },
     "execution_count": 43,
     "metadata": {},
     "output_type": "execute_result"
    }
   ],
   "source": [
    "# LW allsky uncertainty\n",
    "2.6+6.7"
   ]
  },
  {
   "cell_type": "code",
   "execution_count": 48,
   "id": "33d33b53-d63e-4888-b99d-ed3cf3fa8ed2",
   "metadata": {},
   "outputs": [
    {
     "data": {
      "text/plain": [
       "11.9"
      ]
     },
     "execution_count": 48,
     "metadata": {},
     "output_type": "execute_result"
    }
   ],
   "source": [
    "# CRE LW uncertainty\n",
    "2.6 + 9.3"
   ]
  },
  {
   "cell_type": "code",
   "execution_count": 51,
   "id": "99af54b7-1a15-48a2-adbe-cfe1a679b4f3",
   "metadata": {},
   "outputs": [
    {
     "data": {
      "text/plain": [
       "23.888670487352023"
      ]
     },
     "execution_count": 51,
     "metadata": {},
     "output_type": "execute_result"
    }
   ],
   "source": [
    "# CRE SW uncertainty\n",
    "np.sqrt(5.6**2 + 17.2**2) + 5.8"
   ]
  },
  {
   "cell_type": "code",
   "execution_count": 52,
   "id": "dc32adf0-68a6-420a-ae60-6b3e2240ff2a",
   "metadata": {},
   "outputs": [
    {
     "data": {
      "text/plain": [
       "26.698689106396216"
      ]
     },
     "execution_count": 52,
     "metadata": {},
     "output_type": "execute_result"
    }
   ],
   "source": [
    "# CRE NET uncertainty\n",
    "np.sqrt(23.9**2 + 11.9**2)"
   ]
  },
  {
   "cell_type": "code",
   "execution_count": 10,
   "id": "4a42133e-b697-4721-a8fd-249b79d14b51",
   "metadata": {},
   "outputs": [
    {
     "data": {
      "text/plain": [
       "5.886000000000001"
      ]
     },
     "execution_count": 10,
     "metadata": {},
     "output_type": "execute_result"
    }
   ],
   "source": [
    "21.8 * 0.27"
   ]
  },
  {
   "cell_type": "code",
   "execution_count": null,
   "id": "797f3e01-4335-447a-8c7b-5106fdaf272b",
   "metadata": {},
   "outputs": [],
   "source": []
  }
 ],
 "metadata": {
  "kernelspec": {
   "display_name": "Python 3 (ipykernel)",
   "language": "python",
   "name": "python3"
  },
  "language_info": {
   "codemirror_mode": {
    "name": "ipython",
    "version": 3
   },
   "file_extension": ".py",
   "mimetype": "text/x-python",
   "name": "python",
   "nbconvert_exporter": "python",
   "pygments_lexer": "ipython3",
   "version": "3.8.12"
  }
 },
 "nbformat": 4,
 "nbformat_minor": 5
}
