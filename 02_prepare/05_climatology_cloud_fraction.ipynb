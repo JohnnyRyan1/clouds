{
 "cells": [
  {
   "cell_type": "code",
   "execution_count": 29,
   "id": "0faca3d8-982f-47fb-ac09-90bdd95402be",
   "metadata": {},
   "outputs": [],
   "source": [
    "#!/usr/bin/env python3\n",
    "# -*- coding: utf-8 -*-\n",
    "\"\"\"\n",
    "DESCRIPTION\n",
    "\n",
    "Stack cloud fraction grids to produce single climatology for 2010.\n",
    "\n",
    "\"\"\"\n",
    "\n",
    "# Import modules\n",
    "import numpy as np\n",
    "import pandas as pd\n",
    "import glob\n",
    "import os\n",
    "import netCDF4\n",
    "import matplotlib.pyplot as plt"
   ]
  },
  {
   "cell_type": "code",
   "execution_count": 25,
   "id": "0ab24ebd-9735-4a0a-8cdc-2d3097854d4b",
   "metadata": {},
   "outputs": [],
   "source": [
    "# Define path\n",
    "path = '/Users/jryan4/Dropbox (University of Oregon)/research/clouds/data/'\n",
    "\n",
    "# Define files\n",
    "file_list = sorted(glob.glob(path + 'modis_cloud_properties/*.nc'))\n",
    "\n",
    "# Define ice sheet grid\n",
    "ismip = netCDF4.Dataset(path + 'masks/1km-ISMIP6.nc')\n",
    "ismip_lon = ismip.variables['lon'][:]\n",
    "ismip_lat = ismip.variables['lat'][:]"
   ]
  },
  {
   "cell_type": "code",
   "execution_count": 26,
   "id": "5a90a8a7-004c-4e96-accf-6004305c87f2",
   "metadata": {},
   "outputs": [
    {
     "name": "stdout",
     "output_type": "stream",
     "text": [
      "Processing... 0 out of 26\n",
      "Processing... 1 out of 26\n",
      "Processing... 2 out of 26\n",
      "Processing... 3 out of 26\n",
      "Processing... 4 out of 26\n",
      "Processing... 5 out of 26\n",
      "Processing... 6 out of 26\n",
      "Processing... 7 out of 26\n",
      "Processing... 8 out of 26\n",
      "Processing... 9 out of 26\n",
      "Processing... 10 out of 26\n",
      "Processing... 11 out of 26\n",
      "Processing... 12 out of 26\n",
      "Processing... 13 out of 26\n",
      "Processing... 14 out of 26\n",
      "Processing... 15 out of 26\n",
      "Processing... 16 out of 26\n",
      "Processing... 17 out of 26\n",
      "Processing... 18 out of 26\n",
      "Processing... 19 out of 26\n",
      "Processing... 20 out of 26\n",
      "Processing... 21 out of 26\n",
      "Processing... 22 out of 26\n",
      "Processing... 23 out of 26\n",
      "Processing... 24 out of 26\n",
      "Processing... 25 out of 26\n"
     ]
    },
    {
     "name": "stderr",
     "output_type": "stream",
     "text": [
      "/var/folders/xj/5ps5mr8d5ysbd2mxxqjg3k800000gq/T/ipykernel_12732/3104008009.py:17: RuntimeWarning: Mean of empty slice\n",
      "  cloud_fraction_mean = np.nanmean(cloud_fraction, axis=2)\n"
     ]
    }
   ],
   "source": [
    "# Define some empty arrays\n",
    "cloud_fraction = np.zeros(ismip_lat.shape)\n",
    "\n",
    "for i in range(len(file_list)):\n",
    "    print('Processing... %.0f out of %.0f' %(i, len(file_list)))\n",
    "\n",
    "    # Read netCDF\n",
    "    f = netCDF4.Dataset(file_list[i])\n",
    "\n",
    "    # Stack\n",
    "    cloud_fraction = np.dstack((cloud_fraction, f.variables['cloud_fraction'][:]))\n",
    "\n",
    "# Remove first layer\n",
    "cloud_fraction = cloud_fraction[:, :, 1:]\n",
    "\n",
    "# Average\n",
    "cloud_fraction_mean = np.nanmean(cloud_fraction, axis=2)"
   ]
  },
  {
   "cell_type": "code",
   "execution_count": 28,
   "id": "a575effd-0e45-4a26-8d36-986d1a5cfc08",
   "metadata": {},
   "outputs": [
    {
     "name": "stdout",
     "output_type": "stream",
     "text": [
      "Creating... /Users/jryan4/Dropbox (University of Oregon)/research/clouds/data/modis_cloud_properties/cloud_fraction_2010.nc\n",
      "Writing data to /Users/jryan4/Dropbox (University of Oregon)/research/clouds/data/modis_cloud_properties/cloud_fraction_2010.nc\n"
     ]
    }
   ],
   "source": [
    "###############################################################################\n",
    "# Save 1 km dataset to NetCDF\n",
    "###############################################################################\n",
    "dataset = netCDF4.Dataset(path + 'modis_cloud_properties/cloud_fraction_2010.nc', \n",
    "                          'w', format='NETCDF4_CLASSIC')\n",
    "print('Creating... %s' % path + 'modis_cloud_properties/cloud_fraction_2010.nc')\n",
    "dataset.Title = \"Cloud fraction for 2010 from the MYD06_L2 product\"\n",
    "import time\n",
    "dataset.History = \"Created \" + time.ctime(time.time())\n",
    "dataset.Projection = \"WGS 84\"\n",
    "dataset.Reference = \"Ryan, J. C., Smith, L. C., et al. (unpublished)\"\n",
    "dataset.Contact = \"jryan4@uoregon.edu\"\n",
    "\n",
    "# Create new dimensions\n",
    "lat_dim = dataset.createDimension('y', ismip_lat.shape[0])\n",
    "lon_dim = dataset.createDimension('x', ismip_lat.shape[1])\n",
    "\n",
    "# Define variable types\n",
    "Y = dataset.createVariable('latitude', np.float32, ('y','x'))\n",
    "X = dataset.createVariable('longitude', np.float32, ('y','x'))\n",
    "\n",
    "# Define units\n",
    "Y.units = \"degrees\"\n",
    "X.units = \"degrees\"\n",
    "\n",
    "# Create the actual 3D variable\n",
    "cloud_fraction_nc = dataset.createVariable('cloud_fraction', np.float32, ('y','x'))\n",
    "\n",
    "# Write data to layers\n",
    "Y[:] = ismip_lat\n",
    "X[:] = ismip_lon\n",
    "cloud_fraction_nc[:] = cloud_fraction_mean\n",
    "\n",
    "print('Writing data to %s' % path + 'modis_cloud_properties/cloud_fraction_2010.nc')\n",
    "\n",
    "# Close dataset\n",
    "dataset.close()"
   ]
  },
  {
   "cell_type": "code",
   "execution_count": null,
   "id": "1b82e9ec-7e2d-4370-8d2e-43afa17b942e",
   "metadata": {},
   "outputs": [],
   "source": []
  }
 ],
 "metadata": {
  "kernelspec": {
   "display_name": "Python 3 (ipykernel)",
   "language": "python",
   "name": "python3"
  },
  "language_info": {
   "codemirror_mode": {
    "name": "ipython",
    "version": 3
   },
   "file_extension": ".py",
   "mimetype": "text/x-python",
   "name": "python",
   "nbconvert_exporter": "python",
   "pygments_lexer": "ipython3",
   "version": "3.8.12"
  }
 },
 "nbformat": 4,
 "nbformat_minor": 5
}
